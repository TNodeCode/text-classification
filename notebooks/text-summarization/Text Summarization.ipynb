{
 "cells": [
  {
   "cell_type": "code",
   "execution_count": null,
   "id": "5ffd1de0",
   "metadata": {},
   "outputs": [],
   "source": [
    "import evaluate\n",
    "import nltk\n",
    "import numpy as np\n",
    "import pandas as pd\n",
    "import torch\n",
    "\n",
    "from datasets import load_dataset\n",
    "from nltk.tokenize import sent_tokenize\n",
    "from tqdm import tqdm\n",
    "from transformers import AutoModelForSeq2SeqLM, AutoTokenizer, DataCollatorForSeq2Seq, TrainingArguments, Trainer, pipeline, set_seed\n",
    "\n",
    "nltk.download(\"punkt\")\n",
    "nltk.download(\"punkt_tab\")\n",
    "\n",
    "device = \"cuda\" if torch.cuda.is_available() else \"cpu\""
   ]
  },
  {
   "cell_type": "code",
   "execution_count": null,
   "id": "764b204e",
   "metadata": {},
   "outputs": [],
   "source": [
    "dataset = load_dataset(\"cnn_dailymail\", \"3.0.0\")\n",
    "dataset"
   ]
  },
  {
   "cell_type": "code",
   "execution_count": null,
   "id": "63097aee",
   "metadata": {},
   "outputs": [],
   "source": [
    "def textgen_summary_pipeline(text: str, model_name: str = \"gpt2-xl\") -> str:\n",
    "    set_seed(42)\n",
    "    pipe = pipeline(\"text-generation\", model=model_name)\n",
    "    gpt2_query = text + \"\\nTL;DR:\\n\" # adding TL;DR (too long; didn't read) at the end makes the model generating summaries\n",
    "    pipe_out = pipe(gpt2_query, max_length=512, clean_up_tokenization_spaces=True)\n",
    "    if \"pegasus\" in model_name:\n",
    "        return pipe_out[0][\"summary_text\"].replace(\" .<n>\", \".\\n\")\n",
    "    else:\n",
    "        return \"\\n\".join(sent_tokenize(pipe_out[0][\"generated_text\"][len(gpt2_query) :]))\n",
    "\n",
    "def summary_pipeline(text: str, model_name: str = \"t5-large\"):\n",
    "    pipe = pipeline(\"summarization\", model=model_name)\n",
    "    pipe_out = pipe(text)\n",
    "    return \"\\n\".join(sent_tokenize(pipe_out[0][\"summary_text\"]))"
   ]
  },
  {
   "cell_type": "code",
   "execution_count": null,
   "id": "202037fb",
   "metadata": {},
   "outputs": [],
   "source": [
    "sample = dataset[\"train\"][12]\n",
    "sample"
   ]
  },
  {
   "cell_type": "code",
   "execution_count": null,
   "id": "84275938",
   "metadata": {},
   "outputs": [],
   "source": [
    "summaries = {\n",
    "    \"_gt\": sample[\"highlights\"],\n",
    "    \"baseline\": \"\\n\".join(sent_tokenize(sample[\"article\"])[:3]),\n",
    "    \"model_gpt2_xl\": textgen_summary_pipeline(text=sample[\"article\"]),\n",
    "    \"model_bart\": summary_pipeline(text=sample[\"article\"], model_name=\"facebook/bart-large-cnn\"),\n",
    "    \"model_pegasus\": summary_pipeline(text=sample[\"article\"], model_name=\"google/pegasus-cnn_dailymail\"),\n",
    "    \"model_t5\": summary_pipeline(text=sample[\"article\"], model_name=\"t5-large\"),\n",
    "}"
   ]
  },
  {
   "cell_type": "code",
   "execution_count": null,
   "id": "670d7a5f",
   "metadata": {},
   "outputs": [],
   "source": [
    "for key in summaries.keys():\n",
    "    print(key.upper() + \"\\n\")\n",
    "    print(summaries[key] + \"\\n\")"
   ]
  },
  {
   "cell_type": "markdown",
   "id": "a3c5b3eb",
   "metadata": {},
   "source": [
    "# Model Evaluation"
   ]
  },
  {
   "cell_type": "code",
   "execution_count": null,
   "id": "66840499",
   "metadata": {},
   "outputs": [],
   "source": [
    "rouge_metric = evaluate.load(\"rouge\")\n",
    "reference = dataset[\"train\"][12][\"highlights\"]\n",
    "records = []\n",
    "rouge_names = [\"rouge1\", \"rouge2\", \"rougeL\", \"rougeLsum\"]\n",
    "\n",
    "for model_name in summaries:\n",
    "    rouge_metric.add(prediction=summaries[model_name], reference=reference)\n",
    "    score = rouge_metric.compute()\n",
    "    rouge_dict = dict((rn, score[rn]) for rn in rouge_names)\n",
    "    records.append(rouge_dict)\n",
    "pd.DataFrame.from_records(records, index=summaries.keys())"
   ]
  },
  {
   "cell_type": "code",
   "execution_count": null,
   "id": "a3257114",
   "metadata": {},
   "outputs": [],
   "source": [
    "def evaluate_baseline(dataset, metric: str, column_text: str = \"article\", column_summary: str = \"highlights\"):\n",
    "    summaries = [\"\\n\".join(sent_tokenize(text)[:3]) for text in dataset[column_text]]\n",
    "    metric.add_batch(predictions=summaries, references=dataset[column_summary])\n",
    "    score = metric.compute()\n",
    "    return score"
   ]
  },
  {
   "cell_type": "code",
   "execution_count": null,
   "id": "58d25ffc",
   "metadata": {},
   "outputs": [],
   "source": [
    "test_samples = dataset[\"test\"].shuffle(seed=42).select(range(1000))\n",
    "score = evaluate_baseline(dataset=test_samples, metric=evaluate.load(\"rouge\"))\n",
    "rouge_dict = dict((rn, score[rn]) for rn in rouge_names)\n",
    "pd.DataFrame.from_dict(rouge_dict, orient=\"index\", columns=[\"baseline\"]).T"
   ]
  },
  {
   "cell_type": "code",
   "execution_count": null,
   "id": "743cfd7c",
   "metadata": {},
   "outputs": [],
   "source": [
    "def chunks(list_of_elements, batch_size):\n",
    "    for i in range(0, len(list_of_elements), batch_size):\n",
    "        yield list_of_elements[i : i + batch_size]\n",
    "\n",
    "def evaluate_pegasus(dataset, metric, model, tokenizer, batch_size=16, device=\"cpu\", column_text=\"article\", column_summary=\"highlights\"):\n",
    "    article_batches = list(chunks(list_of_elements=dataset[column_text], batch_size=batch_size))\n",
    "    target_batches = list(chunks(list_of_elements=dataset[column_summary], batch_size=batch_size))\n",
    "\n",
    "    for article_batch, target_batch in tqdm(zip(article_batches, target_batches), total=len(article_batches)):\n",
    "        inputs = tokenizer(article_batch, max_length=1024, truncation=True, padding=\"max_length\", return_tensors=\"pt\")\n",
    "        summaries = model.generate(input_ids=inputs[\"input_ids\"].to(device), attention_mask=inputs[\"attention_mask\"].to(device), num_beams=8, max_length=128)\n",
    "        decoded_summaries = [tokenizer.decode(s, skip_special_tokens=True, clean_up_tokenization_spaces=True) for s in summaries]\n",
    "        decoded_summaries = [d.replace(\". <n>\", \"\\n\") for d in decoded_summaries]\n",
    "        metric.add_batch(predictions=decoded_summaries, references=target_batch)\n",
    "    score = metric.compute()\n",
    "    return score"
   ]
  },
  {
   "cell_type": "code",
   "execution_count": null,
   "id": "f26df94f",
   "metadata": {},
   "outputs": [],
   "source": [
    "model_name = \"google/pegasus-cnn_dailymail\"\n",
    "tokenizer = AutoTokenizer.from_pretrained(model_name)\n",
    "model = AutoModelForSeq2SeqLM.from_pretrained(model_name).to(device)\n",
    "score = evaluate_pegasus(dataset=test_samples, metric=evaluate.load(\"rouge\"), model=model, tokenizer=tokenizer, batch_size=8)\n",
    "rouge_dict = dict((rn, score[rn]) for rn in rouge_names)\n",
    "pd.DataFrame(rouge_dict, index=[\"pegasus\"])"
   ]
  },
  {
   "cell_type": "markdown",
   "id": "ac9af8c2",
   "metadata": {},
   "source": [
    "## Training a Text Generation Model"
   ]
  },
  {
   "cell_type": "code",
   "execution_count": null,
   "id": "0d2e2bde",
   "metadata": {},
   "outputs": [],
   "source": [
    "dataset_samsum = load_dataset(\"knkarthick/samsum\")\n",
    "spplit_lengths = [len(dataset_samsum[split]) for split in dataset_samsum]\n",
    "\n",
    "print(\"Split lengths\", spplit_lengths)\n",
    "print(\"Features\", dataset_samsum[\"train\"].column_names)\n",
    "\n",
    "print(\"\\nDialogue:\\n\", dataset_samsum[\"train\"][0][\"dialogue\"])\n",
    "print(\"\\Summary:\\n\", dataset_samsum[\"train\"][0][\"summary\"])"
   ]
  },
  {
   "cell_type": "code",
   "execution_count": null,
   "id": "2bc12878",
   "metadata": {},
   "outputs": [],
   "source": [
    "summary_pegasus = summary_pipeline(text=dataset_samsum[\"train\"][0][\"dialogue\"], model_name=\"google/pegasus-cnn_dailymail\")\n",
    "\n",
    "print(\"Summary:\")\n",
    "summary_pegasus"
   ]
  },
  {
   "cell_type": "code",
   "execution_count": null,
   "id": "d47a770f",
   "metadata": {},
   "outputs": [],
   "source": [
    "score = evaluate_pegasus(\n",
    "    dataset=dataset_samsum[\"test\"],\n",
    "    metric=evaluate.load(\"rouge\"),\n",
    "    model=model,\n",
    "    tokenizer=tokenizer,\n",
    "    column_text=\"dialogue\",\n",
    "    column_summary=\"summary\",\n",
    "    batch_size=8\n",
    ")\n",
    "rogue_dict = dict((rn, score[rn]) for rn in rouge_names)\n",
    "pd.DataFrame(rouge_dict, index=[\"pegasus\"])"
   ]
  },
  {
   "cell_type": "code",
   "execution_count": null,
   "id": "ff835999",
   "metadata": {},
   "outputs": [],
   "source": [
    "def convert_examples_to_features(batch):\n",
    "    try:\n",
    "        input_encodings = tokenizer(batch[\"dialogue\"], max_length=1024, truncation=True)\n",
    "    except Exception as e:\n",
    "        print(e)\n",
    "        print(batch)\n",
    "        return\n",
    "    with tokenizer.as_target_tokenizer():\n",
    "        target_encodings = tokenizer(batch[\"summary\"], max_length=128, truncation=True)\n",
    "    return {\n",
    "        \"input_ids\": input_encodings[\"input_ids\"],\n",
    "        \"attention_mask\": input_encodings[\"attention_mask\"],\n",
    "        \"labels\": target_encodings[\"input_ids\"]\n",
    "    }"
   ]
  },
  {
   "cell_type": "code",
   "execution_count": null,
   "id": "07edd150",
   "metadata": {},
   "outputs": [],
   "source": [
    "dataset_samsum_pt = dataset_samsum.map(convert_examples_to_features, batched=True)\n",
    "columns = [\"input_ids\", \"labels\", \"attention_mask\"]\n",
    "dataset_samsum_pt.set_format(type=\"torch\", columns=columns)\n",
    "dataset_samsum_pt"
   ]
  },
  {
   "cell_type": "code",
   "execution_count": null,
   "id": "01a90995",
   "metadata": {},
   "outputs": [],
   "source": [
    "data_collator = DataCollatorForSeq2Seq(tokenizer=tokenizer, model=model)\n",
    "\n",
    "training_args = TrainingArguments(\n",
    "    output_dir=\"pegasus-samsum\",\n",
    "    num_train_epochs=1,\n",
    "    warmup_steps=500,\n",
    "    per_device_train_batch_size=1,\n",
    "    per_gpu_eval_batch_size=1,\n",
    "    weight_decay=0.01,\n",
    "    logging_steps=10,\n",
    "    push_to_hub=False,\n",
    "    eval_strategy=\"steps\",\n",
    "    eval_steps=500,\n",
    "    save_steps=1e6,\n",
    "    gradient_accumulation_steps=16,\n",
    ")\n",
    "\n",
    "trainer = Trainer(\n",
    "    model=model,\n",
    "    args=training_args,\n",
    "    tokenizer=tokenizer,\n",
    "    data_collator=data_collator,\n",
    "    train_dataset=dataset_samsum_pt[\"train\"],\n",
    "    eval_dataset=dataset[\"validation\"]\n",
    ")\n",
    "\n",
    "trainer.train()"
   ]
  },
  {
   "cell_type": "code",
   "execution_count": null,
   "id": "bcde9200",
   "metadata": {},
   "outputs": [],
   "source": [
    "score = evaluate_pegasus(\n",
    "    dataset=dataset_samsum[\"test\"],\n",
    "    metric=evaluate.load(\"rouge\"),\n",
    "    model=trainer.model,\n",
    "    tokenizer=tokenizer,\n",
    "    batch_size=2,\n",
    "    column_text=\"dialogue\",\n",
    "    column_summary=\"summary\",\n",
    ")\n",
    "\n",
    "rogue_dict = dict((rn, score[rn]) for rn in rouge_names)\n",
    "pd.DataFrame(rouge_dict, index=[\"pegasus\"])"
   ]
  },
  {
   "cell_type": "code",
   "execution_count": null,
   "id": "ce3711b0",
   "metadata": {},
   "outputs": [],
   "source": [
    "gen_kwargs = {\"num_beams\": 8, \"max_length\": 128}\n",
    "sample_text = dataset_samsum[\"test\"][0][\"dialogue\"]\n",
    "sample_summary = dataset_samsum[\"test\"][0][\"summary\"]\n",
    "pipe = pipeline(\"summarization\", model=trainer.model, tokenizer=tokenizer)\n",
    "\n",
    "print(\"\\nDialogue:\\n\", sample_text)\n",
    "print(\"\\nTarget Summary:\\n\", sample_summary)\n",
    "print(\"\\nModel Summary\\n:\", pipe(sample_text, **gen_kwargs)[0][\"summary_text\"])"
   ]
  },
  {
   "cell_type": "code",
   "execution_count": null,
   "id": "8aa7e486",
   "metadata": {},
   "outputs": [],
   "source": []
  }
 ],
 "metadata": {
  "kernelspec": {
   "display_name": ".venv",
   "language": "python",
   "name": "python3"
  },
  "language_info": {
   "codemirror_mode": {
    "name": "ipython",
    "version": 3
   },
   "file_extension": ".py",
   "mimetype": "text/x-python",
   "name": "python",
   "nbconvert_exporter": "python",
   "pygments_lexer": "ipython3",
   "version": "3.13.2"
  }
 },
 "nbformat": 4,
 "nbformat_minor": 5
}
