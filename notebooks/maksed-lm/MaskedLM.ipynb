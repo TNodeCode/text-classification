{
 "cells": [
  {
   "cell_type": "code",
   "execution_count": null,
   "id": "ed88998c",
   "metadata": {},
   "outputs": [],
   "source": [
    "import torch\n",
    "from transformers import AutoTokenizer, AutoModelForMaskedLM\n",
    "from transformers.modeling_outputs import MaskedLMOutput\n",
    "from datasets import load_dataset"
   ]
  },
  {
   "cell_type": "code",
   "execution_count": null,
   "id": "eefe6660",
   "metadata": {},
   "outputs": [],
   "source": [
    "dataset = load_dataset(\"KevinZ/oLMpics\", name=\"Age_Comparison\")\n",
    "dataset"
   ]
  },
  {
   "cell_type": "code",
   "execution_count": null,
   "id": "65dc6c19",
   "metadata": {},
   "outputs": [],
   "source": [
    "dataset[\"train\"].features[\"answerKey\"]"
   ]
  },
  {
   "cell_type": "code",
   "execution_count": null,
   "id": "a42fa459",
   "metadata": {},
   "outputs": [],
   "source": [
    "dataset[\"train\"][-1]"
   ]
  },
  {
   "cell_type": "code",
   "execution_count": null,
   "id": "761f1653",
   "metadata": {},
   "outputs": [],
   "source": [
    "choices = dataset[\"train\"][0][\"choices\"]\n",
    "choices_ids = tokenizer(choices, return_tensors=\"pt\").input_ids\n",
    "choices_ids = choices_ids[:, 1]\n",
    "# remove \n",
    "\n",
    "choices_dict = {\n",
    "    \"values\": choices,\n",
    "    \"ids\": choices_ids\n",
    "}\n",
    "\n",
    "choices_dict"
   ]
  },
  {
   "cell_type": "code",
   "execution_count": null,
   "id": "c7d26349",
   "metadata": {},
   "outputs": [],
   "source": [
    "model_name = \"bert-base-cased\"\n",
    "tokenizer = AutoTokenizer.from_pretrained(model_name)\n",
    "model = AutoModelForMaskedLM.from_pretrained(model_name)"
   ]
  },
  {
   "cell_type": "code",
   "execution_count": null,
   "id": "521583ee",
   "metadata": {},
   "outputs": [],
   "source": [
    "# Get the mask token and its id\n",
    "tokenizer.mask_token, tokenizer.mask_token_id"
   ]
  },
  {
   "cell_type": "code",
   "execution_count": null,
   "id": "2cb91c81",
   "metadata": {},
   "outputs": [],
   "source": [
    "# Get the model's inputs as a PyTorch tensor\n",
    "inputs = tokenizer(dataset[\"train\"][0][\"stem\"], return_tensors=\"pt\")\n",
    "inputs"
   ]
  },
  {
   "cell_type": "code",
   "execution_count": null,
   "id": "c7be9664",
   "metadata": {},
   "outputs": [],
   "source": [
    "# Get the position of the [MASK] token in the sentence\n",
    "mask_pos = (inputs.input_ids.squeeze() == tokenizer.mask_token_id).nonzero(as_tuple=True)\n",
    "mask_pos = int(mask_pos[0].squeeze())\n",
    "mask_pos"
   ]
  },
  {
   "cell_type": "code",
   "execution_count": null,
   "id": "34e89d42",
   "metadata": {},
   "outputs": [],
   "source": [
    "# predicts logits for each output token in the sentence. \n",
    "with torch.no_grad():\n",
    "    output: MaskedLMOutput = model(**inputs)"
   ]
  },
  {
   "cell_type": "code",
   "execution_count": null,
   "id": "d14f7878",
   "metadata": {},
   "outputs": [],
   "source": [
    "output.logits.shape # shape: (batch_size, seq_length, vocab_size)"
   ]
  },
  {
   "cell_type": "code",
   "execution_count": null,
   "id": "1e6e3967",
   "metadata": {},
   "outputs": [],
   "source": [
    "# get the logits for the token ids of the availaböe choices\n",
    "choices_logits = torch.tensor(list(map(lambda id: output.logits[0, mask_pos, id], choices_dict[\"ids\"])))\n",
    "choices_logits"
   ]
  },
  {
   "cell_type": "code",
   "execution_count": null,
   "id": "24de4425",
   "metadata": {},
   "outputs": [],
   "source": [
    "# get the index of the choice with the maximum logit value\n",
    "idx_max = int(choices_logits.argmax())\n",
    "idx_max"
   ]
  },
  {
   "cell_type": "code",
   "execution_count": null,
   "id": "a9f9f0f6",
   "metadata": {},
   "outputs": [],
   "source": [
    "# check whether model prediction matches the correct answer\n",
    "dataset[\"train\"][0][\"answerKey\"] == idx_max"
   ]
  },
  {
   "cell_type": "code",
   "execution_count": null,
   "id": "249f3399",
   "metadata": {},
   "outputs": [],
   "source": []
  }
 ],
 "metadata": {
  "kernelspec": {
   "display_name": ".venv",
   "language": "python",
   "name": "python3"
  },
  "language_info": {
   "codemirror_mode": {
    "name": "ipython",
    "version": 3
   },
   "file_extension": ".py",
   "mimetype": "text/x-python",
   "name": "python",
   "nbconvert_exporter": "python",
   "pygments_lexer": "ipython3",
   "version": "3.13.2"
  }
 },
 "nbformat": 4,
 "nbformat_minor": 5
}
