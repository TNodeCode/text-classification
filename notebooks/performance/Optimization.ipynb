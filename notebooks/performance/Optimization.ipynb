{
 "cells": [
  {
   "cell_type": "code",
   "execution_count": 42,
   "id": "225c61de",
   "metadata": {},
   "outputs": [
    {
     "name": "stdout",
     "output_type": "stream",
     "text": [
      "The autoreload extension is already loaded. To reload it, use:\n",
      "  %reload_ext autoreload\n"
     ]
    }
   ],
   "source": [
    "import evaluate\n",
    "import numpy as np\n",
    "import optuna\n",
    "import os\n",
    "import torch\n",
    "import torch.nn as nn\n",
    "\n",
    "from benchmark import PerformanceBenchmark\n",
    "from datasets import load_dataset\n",
    "from pathlib import Path\n",
    "from onnxruntime import GraphOptimizationLevel, InferenceSession, SessionOptions\n",
    "from psutil import cpu_count\n",
    "from scipy.special import softmax\n",
    "from torch.quantization import quantize_dynamic\n",
    "from training import KDTrainer, KDTrainingArguments\n",
    "from transformers import AutoConfig, AutoTokenizer, AutoModelForSequenceClassification, pipeline\n",
    "from transformers.convert_graph_to_onnx import convert\n",
    "\n",
    "%load_ext autoreload\n",
    "%autoreload 2"
   ]
  },
  {
   "cell_type": "markdown",
   "id": "f22267f8",
   "metadata": {},
   "source": [
    "## Load model and dataset"
   ]
  },
  {
   "cell_type": "code",
   "execution_count": null,
   "id": "22d794e1",
   "metadata": {},
   "outputs": [],
   "source": [
    "# Model\n",
    "teacher_ckpt = \"transformersbook/bert-base-uncased-finetuned-clinc\"\n",
    "student_ckpt = \"distilbert-base-uncased\"\n",
    "pipe = pipeline(\"text-classification\", model=teacher_ckpt)\n",
    "\n",
    "# Dataset\n",
    "clinc = load_dataset(\"clinc_oos\", \"plus\")\n",
    "\n",
    "# Tokenizers\n",
    "student_tokenizer = AutoTokenizer.from_pretrained(student_ckpt)\n",
    "\n",
    "# Metrics\n",
    "accuracy_score = evaluate.load(\"accuracy\")\n",
    "\n",
    "# Queries\n",
    "bench_query = \"What is the pin number for my account?\"\n",
    "\n",
    "# Device\n",
    "device = \"cuda\" if torch.cuda.is_available() else \"cpu\""
   ]
  },
  {
   "cell_type": "markdown",
   "id": "e0faaa66",
   "metadata": {},
   "source": [
    "## Inspect dataset"
   ]
  },
  {
   "cell_type": "code",
   "execution_count": null,
   "id": "56ec9af9",
   "metadata": {},
   "outputs": [],
   "source": [
    "sample = clinc[\"test\"][42]\n",
    "print(\"Sample\", sample)\n",
    "\n",
    "intents = clinc[\"test\"].features[\"intent\"]\n",
    "print(\"Label\", intents.int2str(sample[\"intent\"]))"
   ]
  },
  {
   "cell_type": "markdown",
   "id": "0974e93c",
   "metadata": {},
   "source": [
    "## Run sample from dataset through model"
   ]
  },
  {
   "cell_type": "code",
   "execution_count": null,
   "id": "320650de",
   "metadata": {},
   "outputs": [],
   "source": [
    "query = [\n",
    "    \"Hey, I'd like to rent a vehicle from Nov 1st to Nov 15th in Paris and I need a 15 passenger van\",\n",
    "    \"Please transfer 100 Dollars from my account.\"\n",
    "]\n",
    "results = pipe(query)\n",
    "label_ids = [intents.str2int(results[0][\"label\"]), intents.str2int(results[1][\"label\"])]\n",
    "print(\"Results\", results)\n",
    "print(\"Label IDs\", label_ids)"
   ]
  },
  {
   "cell_type": "markdown",
   "id": "05ef2d20",
   "metadata": {},
   "source": [
    "## Run Benchmarks against baseline model"
   ]
  },
  {
   "cell_type": "code",
   "execution_count": null,
   "id": "12b25361",
   "metadata": {},
   "outputs": [],
   "source": [
    "bench = PerformanceBenchmark(pipeline=pipe, dataset=clinc[\"test\"], query=bench_query, class_labels=intents)\n",
    "bench.run_benchmark()"
   ]
  },
  {
   "cell_type": "markdown",
   "id": "8f546097",
   "metadata": {},
   "source": [
    "## Prepare Dataset"
   ]
  },
  {
   "cell_type": "code",
   "execution_count": null,
   "id": "efd8bbd5",
   "metadata": {},
   "outputs": [],
   "source": [
    "def tokenize_text(batch):\n",
    "    return student_tokenizer(batch[\"text\"], truncation=True)\n",
    "\n",
    "clinc_enc = clinc.map(tokenize_text, batched=True, remove_columns=[\"text\"])\n",
    "clinc_enc = clinc_enc.rename_column(\"intent\", \"labels\")\n",
    "clinc_enc"
   ]
  },
  {
   "cell_type": "markdown",
   "id": "37936a00",
   "metadata": {},
   "source": [
    "## Model Training"
   ]
  },
  {
   "cell_type": "code",
   "execution_count": null,
   "id": "ef8e0117",
   "metadata": {},
   "outputs": [],
   "source": [
    "def compute_metrics(pred):\n",
    "    predictions, labels = pred\n",
    "    predictions = np.argmax(predictions, axis=1)\n",
    "    return accuracy_score.compute(predictions=predictions, references=labels)\n",
    "\n",
    "batch_size = 4\n",
    "finetuned_ckpt = \"distilbert-base-uncased-finetuned-clinc\"\n",
    "\n",
    "training_args = KDTrainingArguments(\n",
    "    output_dir=f\"../../checkpoints/{finetuned_ckpt}\",\n",
    "    num_train_epochs=10,\n",
    "    learning_rate=2e-5,\n",
    "    per_device_train_batch_size=batch_size,\n",
    "    per_device_eval_batch_size=batch_size,\n",
    "    alpha=0.12,\n",
    "    temperature=7,\n",
    "    weight_decay=0.01,\n",
    "    push_to_hub=False,\n",
    ")\n",
    "\n",
    "id2label = pipe.model.config.id2label\n",
    "label2id = pipe.model.config.label2id\n",
    "\n",
    "num_labels = intents.num_classes\n",
    "student_config = AutoConfig.from_pretrained(student_ckpt, num_labels=num_labels, id2label=id2label, label2id=label2id)\n",
    "\n",
    "def student_init():\n",
    "    return AutoModelForSequenceClassification.from_pretrained(student_ckpt, config=student_config).to(device)\n",
    "\n",
    "trainer = KDTrainer(\n",
    "    model_init=student_init,\n",
    "    teacher_model=pipe.model,\n",
    "    args=training_args,\n",
    "    train_dataset=clinc_enc[\"train\"],\n",
    "    eval_dataset=clinc_enc[\"validation\"],\n",
    "    compute_metrics=compute_metrics,\n",
    "    tokenizer=student_tokenizer\n",
    ")"
   ]
  },
  {
   "cell_type": "code",
   "execution_count": null,
   "id": "17dd8045",
   "metadata": {},
   "outputs": [],
   "source": [
    "trainer.train()"
   ]
  },
  {
   "cell_type": "code",
   "execution_count": null,
   "id": "8f51f588",
   "metadata": {},
   "outputs": [],
   "source": [
    "pipe_student = pipeline(\"text-classification\", model=trainer.model, tokenizer=student_tokenizer)\n",
    "bench_student = PerformanceBenchmark(pipeline=pipe_student, dataset=clinc[\"test\"], class_labels=intents, query=bench_query, optim_type=\"DistilBERT\")\n",
    "bench_student.run_benchmark()"
   ]
  },
  {
   "cell_type": "markdown",
   "id": "c053b70f",
   "metadata": {},
   "source": [
    "## Hyperparameter Tuning"
   ]
  },
  {
   "cell_type": "code",
   "execution_count": null,
   "id": "2f804d8f",
   "metadata": {},
   "outputs": [],
   "source": [
    "def hp_space(trial):\n",
    "    return {\n",
    "        \"num_train_epochs\": trial.suggest_int(\"num_train_epochs\", 5, 10),\n",
    "        \"alpha\": trial.suggest_float(\"alpha\", 0, 1),\n",
    "        \"temperature\": trial.suggest_int(\"temperature\", 2, 20)\n",
    "    }\n",
    "\n",
    "best_run = trainer.hyperparameter_search(n_trials=20, direction=\"maximize\", hp_space=hp_space)\n",
    "print(\"BEST RUN\", best_run)"
   ]
  },
  {
   "cell_type": "markdown",
   "id": "e4ef8c0a",
   "metadata": {},
   "source": [
    "## Model Quantization"
   ]
  },
  {
   "cell_type": "code",
   "execution_count": null,
   "id": "e5788983",
   "metadata": {},
   "outputs": [],
   "source": [
    "model_quantized = quantize_dynamic(trainer.model, {nn.Linear}, dtype=torch.qint8)\n",
    "pipe_quantized = pipeline(\"text-classification\", model=model_quantized, tokenizer=student_tokenizer)\n",
    "bench_quantized = PerformanceBenchmark(pipeline=pipe_quantized, dataset=clinc[\"test\"], class_labels=intents, query=bench_query, optim_type=\"DistilBERT\")\n",
    "bench_quantized.run_benchmark()"
   ]
  },
  {
   "cell_type": "markdown",
   "id": "b159b138",
   "metadata": {},
   "source": [
    "## Export to ONNX"
   ]
  },
  {
   "cell_type": "code",
   "execution_count": null,
   "id": "b695a951",
   "metadata": {},
   "outputs": [],
   "source": [
    "os.environ[\"OMP_NUM_THREADS\"] = f\"{cpu_count()}\"\n",
    "os.environ[\"OMP_WAIT_POLICY\"] = \"ACTIVE\"\n",
    "\n",
    "model_onnx_path = Path(\"../../checkpoints/export-onnx/distilbert.onnx\")\n",
    "convert(framework=\"pt\", model=trainer.model, tokenizer=student_tokenizer, output=model_onnx_path, opset=12, pipeline_name=\"text-classification\")"
   ]
  },
  {
   "cell_type": "code",
   "execution_count": 41,
   "id": "37a77aae",
   "metadata": {},
   "outputs": [
    {
     "ename": "NoSuchFile",
     "evalue": "[ONNXRuntimeError] : 3 : NO_SUCHFILE : Load model from ../../checkpoints/export-onnx/distilbert.onnx failed:Load model ../../checkpoints/export-onnx/distilbert.onnx failed. File doesn't exist",
     "output_type": "error",
     "traceback": [
      "\u001b[31m---------------------------------------------------------------------------\u001b[39m",
      "\u001b[31mNoSuchFile\u001b[39m                                Traceback (most recent call last)",
      "\u001b[36mCell\u001b[39m\u001b[36m \u001b[39m\u001b[32mIn[41]\u001b[39m\u001b[32m, line 9\u001b[39m\n\u001b[32m      6\u001b[39m     session.disable_fallback()\n\u001b[32m      7\u001b[39m     \u001b[38;5;28;01mreturn\u001b[39;00m session\n\u001b[32m----> \u001b[39m\u001b[32m9\u001b[39m onnx_model = \u001b[43mcreate_model_for_provider\u001b[49m\u001b[43m(\u001b[49m\u001b[43mmodel_onnx_path\u001b[49m\u001b[43m)\u001b[49m\n",
      "\u001b[36mCell\u001b[39m\u001b[36m \u001b[39m\u001b[32mIn[41]\u001b[39m\u001b[32m, line 5\u001b[39m, in \u001b[36mcreate_model_for_provider\u001b[39m\u001b[34m(model_path, provider)\u001b[39m\n\u001b[32m      3\u001b[39m options.intra_op_num_threads = \u001b[32m1\u001b[39m\n\u001b[32m      4\u001b[39m options.graph_optimization_level = GraphOptimizationLevel.ORT_ENABLE_ALL\n\u001b[32m----> \u001b[39m\u001b[32m5\u001b[39m session = \u001b[43mInferenceSession\u001b[49m\u001b[43m(\u001b[49m\u001b[38;5;28;43mstr\u001b[39;49m\u001b[43m(\u001b[49m\u001b[43mmodel_path\u001b[49m\u001b[43m)\u001b[49m\u001b[43m,\u001b[49m\u001b[43m \u001b[49m\u001b[43moptions\u001b[49m\u001b[43m,\u001b[49m\u001b[43m \u001b[49m\u001b[43mproviders\u001b[49m\u001b[43m=\u001b[49m\u001b[43m[\u001b[49m\u001b[43mprovider\u001b[49m\u001b[43m]\u001b[49m\u001b[43m)\u001b[49m\n\u001b[32m      6\u001b[39m session.disable_fallback()\n\u001b[32m      7\u001b[39m \u001b[38;5;28;01mreturn\u001b[39;00m session\n",
      "\u001b[36mFile \u001b[39m\u001b[32m~/DeepLearningProjects/PersonalProjects/HuggingfaceTutorial/.venv/lib/python3.13/site-packages/onnxruntime/capi/onnxruntime_inference_collection.py:472\u001b[39m, in \u001b[36mInferenceSession.__init__\u001b[39m\u001b[34m(self, path_or_bytes, sess_options, providers, provider_options, **kwargs)\u001b[39m\n\u001b[32m    469\u001b[39m disabled_optimizers = kwargs.get(\u001b[33m\"\u001b[39m\u001b[33mdisabled_optimizers\u001b[39m\u001b[33m\"\u001b[39m)\n\u001b[32m    471\u001b[39m \u001b[38;5;28;01mtry\u001b[39;00m:\n\u001b[32m--> \u001b[39m\u001b[32m472\u001b[39m     \u001b[38;5;28;43mself\u001b[39;49m\u001b[43m.\u001b[49m\u001b[43m_create_inference_session\u001b[49m\u001b[43m(\u001b[49m\u001b[43mproviders\u001b[49m\u001b[43m,\u001b[49m\u001b[43m \u001b[49m\u001b[43mprovider_options\u001b[49m\u001b[43m,\u001b[49m\u001b[43m \u001b[49m\u001b[43mdisabled_optimizers\u001b[49m\u001b[43m)\u001b[49m\n\u001b[32m    473\u001b[39m \u001b[38;5;28;01mexcept\u001b[39;00m (\u001b[38;5;167;01mValueError\u001b[39;00m, \u001b[38;5;167;01mRuntimeError\u001b[39;00m) \u001b[38;5;28;01mas\u001b[39;00m e:\n\u001b[32m    474\u001b[39m     \u001b[38;5;28;01mif\u001b[39;00m \u001b[38;5;28mself\u001b[39m._enable_fallback:\n",
      "\u001b[36mFile \u001b[39m\u001b[32m~/DeepLearningProjects/PersonalProjects/HuggingfaceTutorial/.venv/lib/python3.13/site-packages/onnxruntime/capi/onnxruntime_inference_collection.py:550\u001b[39m, in \u001b[36mInferenceSession._create_inference_session\u001b[39m\u001b[34m(self, providers, provider_options, disabled_optimizers)\u001b[39m\n\u001b[32m    547\u001b[39m \u001b[38;5;28mself\u001b[39m._register_ep_custom_ops(session_options, providers, provider_options, available_providers)\n\u001b[32m    549\u001b[39m \u001b[38;5;28;01mif\u001b[39;00m \u001b[38;5;28mself\u001b[39m._model_path:\n\u001b[32m--> \u001b[39m\u001b[32m550\u001b[39m     sess = \u001b[43mC\u001b[49m\u001b[43m.\u001b[49m\u001b[43mInferenceSession\u001b[49m\u001b[43m(\u001b[49m\u001b[43msession_options\u001b[49m\u001b[43m,\u001b[49m\u001b[43m \u001b[49m\u001b[38;5;28;43mself\u001b[39;49m\u001b[43m.\u001b[49m\u001b[43m_model_path\u001b[49m\u001b[43m,\u001b[49m\u001b[43m \u001b[49m\u001b[38;5;28;43;01mTrue\u001b[39;49;00m\u001b[43m,\u001b[49m\u001b[43m \u001b[49m\u001b[38;5;28;43mself\u001b[39;49m\u001b[43m.\u001b[49m\u001b[43m_read_config_from_model\u001b[49m\u001b[43m)\u001b[49m\n\u001b[32m    551\u001b[39m \u001b[38;5;28;01melse\u001b[39;00m:\n\u001b[32m    552\u001b[39m     sess = C.InferenceSession(session_options, \u001b[38;5;28mself\u001b[39m._model_bytes, \u001b[38;5;28;01mFalse\u001b[39;00m, \u001b[38;5;28mself\u001b[39m._read_config_from_model)\n",
      "\u001b[31mNoSuchFile\u001b[39m: [ONNXRuntimeError] : 3 : NO_SUCHFILE : Load model from ../../checkpoints/export-onnx/distilbert.onnx failed:Load model ../../checkpoints/export-onnx/distilbert.onnx failed. File doesn't exist"
     ]
    }
   ],
   "source": [
    "def create_model_for_provider(model_path, provider=\"CPUExecutionProvider\"):\n",
    "    options = SessionOptions()\n",
    "    options.intra_op_num_threads = 1\n",
    "    options.graph_optimization_level = GraphOptimizationLevel.ORT_ENABLE_ALL\n",
    "    session = InferenceSession(str(model_path), options, providers=[provider])\n",
    "    session.disable_fallback()\n",
    "    return session\n",
    "\n",
    "onnx_model = create_model_for_provider(model_onnx_path)"
   ]
  },
  {
   "cell_type": "markdown",
   "id": "a6308ece",
   "metadata": {},
   "source": [
    "## ONNX Inference Pipeline"
   ]
  },
  {
   "cell_type": "code",
   "execution_count": null,
   "id": "98591d17",
   "metadata": {},
   "outputs": [],
   "source": [
    "class OnnxPipeline:\n",
    "    def __init__(self, model, tokenizer):\n",
    "        self.model = model\n",
    "        self.tokenizer = tokenizer\n",
    "    \n",
    "    def __call__(self, query):\n",
    "        model_inputs = self.tokenizer(query, return_tensors=\"pt\")\n",
    "        inputs_onnx = {k: v.cpu().detach().numpy() for k, v in model_inputs.items()}\n",
    "        logits = self.model.run(None, inputs_onnx)[0][0, :]\n",
    "        probs = softmax(logits)\n",
    "        pred_idx = np.argmax(probs).item()\n",
    "        return [{\"label\": intents.int2str(pred_idx), \"score\": probs[pred_idx]}]\n",
    "    \n",
    "pipe_onnx = OnnxPipeline(onnx_model, student_tokenizer)\n",
    "pipe(bench_query)"
   ]
  },
  {
   "cell_type": "markdown",
   "id": "c4c10db1",
   "metadata": {},
   "source": [
    "## ONNX Performance Benchmark"
   ]
  },
  {
   "cell_type": "code",
   "execution_count": null,
   "id": "c7c5abb6",
   "metadata": {},
   "outputs": [],
   "source": [
    "class OnnxPerformanceBenchmark(PerformanceBenchmark):\n",
    "    def __init__(self, *args, model_path, **kwargs):\n",
    "        super().__init__(*args, **kwargs)\n",
    "        self.model_path = model_path\n",
    "\n",
    "    def compute_size(self):\n",
    "        size_mb = np.round(Path(self.model_path).stat().st_size / (1024**2), 3)\n",
    "        return {\"size_mb\": size_mb}\n",
    "    \n",
    "\n",
    "bench_onnx = OnnxPerformanceBenchmark(pipe_onnx, clinc[\"test\"], model_path=model_onnx_path, optim_type=\"ORT\")\n",
    "bench_onnx.run_benchmark()"
   ]
  }
 ],
 "metadata": {
  "kernelspec": {
   "display_name": ".venv",
   "language": "python",
   "name": "python3"
  },
  "language_info": {
   "codemirror_mode": {
    "name": "ipython",
    "version": 3
   },
   "file_extension": ".py",
   "mimetype": "text/x-python",
   "name": "python",
   "nbconvert_exporter": "python",
   "pygments_lexer": "ipython3",
   "version": "3.13.2"
  }
 },
 "nbformat": 4,
 "nbformat_minor": 5
}
