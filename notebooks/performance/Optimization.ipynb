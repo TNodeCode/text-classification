{
 "cells": [
  {
   "cell_type": "code",
   "execution_count": null,
   "id": "225c61de",
   "metadata": {},
   "outputs": [],
   "source": [
    "import evaluate\n",
    "import numpy as np\n",
    "import optuna\n",
    "import os\n",
    "import torch\n",
    "import torch.nn as nn\n",
    "\n",
    "from benchmark import PerformanceBenchmark\n",
    "from datasets import load_dataset\n",
    "from pathlib import Path\n",
    "from onnxruntime import GraphOptimizationLevel, InferenceSession, SessionOptions\n",
    "from onnxruntime.quantization import quantize_dynamic as onnx_quantize_dynamic, quantize_static as onnx_quantize_static, matmul_nbits_quantizer, quant_utils, QuantType\n",
    "from psutil import cpu_count\n",
    "from scipy.special import softmax\n",
    "from torch.quantization import quantize_dynamic\n",
    "from training import KDTrainer, KDTrainingArguments\n",
    "from transformers import AutoConfig, AutoTokenizer, AutoModelForSequenceClassification, pipeline\n",
    "from transformers.convert_graph_to_onnx import convert_pytorch\n",
    "\n",
    "%load_ext autoreload\n",
    "%autoreload 2"
   ]
  },
  {
   "cell_type": "markdown",
   "id": "f22267f8",
   "metadata": {},
   "source": [
    "## Load model and dataset"
   ]
  },
  {
   "cell_type": "code",
   "execution_count": null,
   "id": "22d794e1",
   "metadata": {},
   "outputs": [],
   "source": [
    "# Model\n",
    "teacher_ckpt = \"transformersbook/bert-base-uncased-finetuned-clinc\"\n",
    "student_ckpt = \"distilbert-base-uncased\"\n",
    "pipe = pipeline(\"text-classification\", model=teacher_ckpt)\n",
    "\n",
    "# Dataset\n",
    "clinc = load_dataset(\"clinc_oos\", \"plus\")\n",
    "\n",
    "# Tokenizers\n",
    "student_tokenizer = AutoTokenizer.from_pretrained(student_ckpt)\n",
    "\n",
    "# Metrics\n",
    "accuracy_score = evaluate.load(\"accuracy\")\n",
    "\n",
    "# Queries\n",
    "bench_query = \"What is the pin number for my account?\"\n",
    "\n",
    "# Device\n",
    "device = \"cuda\" if torch.cuda.is_available() else \"cpu\"\n",
    "print(\"DEVICE\", device)"
   ]
  },
  {
   "cell_type": "markdown",
   "id": "e0faaa66",
   "metadata": {},
   "source": [
    "## Inspect dataset"
   ]
  },
  {
   "cell_type": "code",
   "execution_count": null,
   "id": "56ec9af9",
   "metadata": {},
   "outputs": [],
   "source": [
    "sample = clinc[\"test\"][42]\n",
    "print(\"Sample\", sample)\n",
    "\n",
    "intents = clinc[\"test\"].features[\"intent\"]\n",
    "print(\"Label\", intents.int2str(sample[\"intent\"]))"
   ]
  },
  {
   "cell_type": "markdown",
   "id": "0974e93c",
   "metadata": {},
   "source": [
    "## Run sample from dataset through model"
   ]
  },
  {
   "cell_type": "code",
   "execution_count": null,
   "id": "320650de",
   "metadata": {},
   "outputs": [],
   "source": [
    "query = [\n",
    "    \"Hey, I'd like to rent a vehicle from Nov 1st to Nov 15th in Paris and I need a 15 passenger van\",\n",
    "    \"Please transfer 100 Dollars from my account.\"\n",
    "]\n",
    "results = pipe(query)\n",
    "label_ids = [intents.str2int(results[0][\"label\"]), intents.str2int(results[1][\"label\"])]\n",
    "print(\"Results\", results)\n",
    "print(\"Label IDs\", label_ids)"
   ]
  },
  {
   "cell_type": "markdown",
   "id": "05ef2d20",
   "metadata": {},
   "source": [
    "## Run Benchmarks against baseline model"
   ]
  },
  {
   "cell_type": "code",
   "execution_count": null,
   "id": "12b25361",
   "metadata": {},
   "outputs": [],
   "source": [
    "bench = PerformanceBenchmark(pipeline=pipe, dataset=clinc[\"test\"], query=bench_query, class_labels=intents)\n",
    "bench.run_benchmark()"
   ]
  },
  {
   "cell_type": "markdown",
   "id": "8f546097",
   "metadata": {},
   "source": [
    "## Prepare Dataset"
   ]
  },
  {
   "cell_type": "code",
   "execution_count": null,
   "id": "efd8bbd5",
   "metadata": {},
   "outputs": [],
   "source": [
    "def tokenize_text(batch):\n",
    "    return student_tokenizer(batch[\"text\"], truncation=True)\n",
    "\n",
    "clinc_enc = clinc.map(tokenize_text, batched=True, remove_columns=[\"text\"])\n",
    "clinc_enc = clinc_enc.rename_column(\"intent\", \"labels\")\n",
    "clinc_enc"
   ]
  },
  {
   "cell_type": "markdown",
   "id": "37936a00",
   "metadata": {},
   "source": [
    "## Model Training"
   ]
  },
  {
   "cell_type": "code",
   "execution_count": null,
   "id": "ef8e0117",
   "metadata": {},
   "outputs": [],
   "source": [
    "def compute_metrics(pred):\n",
    "    predictions, labels = pred\n",
    "    predictions = np.argmax(predictions, axis=1)\n",
    "    return accuracy_score.compute(predictions=predictions, references=labels)\n",
    "\n",
    "batch_size = 16\n",
    "finetuned_ckpt = \"distilbert-base-uncased-finetuned-clinc\"\n",
    "\n",
    "training_args = KDTrainingArguments(\n",
    "    output_dir=f\"../../checkpoints/{finetuned_ckpt}\",\n",
    "    num_train_epochs=10,\n",
    "    learning_rate=2e-5,\n",
    "    per_device_train_batch_size=batch_size,\n",
    "    per_device_eval_batch_size=batch_size,\n",
    "    logging_steps=500,\n",
    "    alpha=0.12,\n",
    "    temperature=7,\n",
    "    weight_decay=0.01,\n",
    "    push_to_hub=False,\n",
    ")\n",
    "\n",
    "id2label = pipe.model.config.id2label\n",
    "label2id = pipe.model.config.label2id\n",
    "\n",
    "num_labels = intents.num_classes\n",
    "student_config = AutoConfig.from_pretrained(student_ckpt, num_labels=num_labels, id2label=id2label, label2id=label2id)\n",
    "\n",
    "def student_init():\n",
    "    return AutoModelForSequenceClassification.from_pretrained(student_ckpt, config=student_config).to(device)\n",
    "\n",
    "trainer = KDTrainer(\n",
    "    model_init=student_init,\n",
    "    teacher_model=pipe.model,\n",
    "    args=training_args,\n",
    "    train_dataset=clinc_enc[\"train\"],\n",
    "    eval_dataset=clinc_enc[\"validation\"],\n",
    "    compute_metrics=compute_metrics,\n",
    "    tokenizer=student_tokenizer\n",
    ")"
   ]
  },
  {
   "cell_type": "code",
   "execution_count": null,
   "id": "17dd8045",
   "metadata": {},
   "outputs": [],
   "source": [
    "trainer.train()"
   ]
  },
  {
   "cell_type": "code",
   "execution_count": null,
   "id": "8f51f588",
   "metadata": {},
   "outputs": [],
   "source": [
    "pipe_student = pipeline(\"text-classification\", model=trainer.model, tokenizer=student_tokenizer)\n",
    "bench_student = PerformanceBenchmark(pipeline=pipe_student, dataset=clinc[\"test\"], class_labels=intents, query=bench_query, optim_type=\"DistilBERT\")\n",
    "bench_student.run_benchmark()"
   ]
  },
  {
   "cell_type": "markdown",
   "id": "c053b70f",
   "metadata": {},
   "source": [
    "## Hyperparameter Tuning"
   ]
  },
  {
   "cell_type": "code",
   "execution_count": null,
   "id": "2f804d8f",
   "metadata": {},
   "outputs": [],
   "source": [
    "def hp_space(trial):\n",
    "    return {\n",
    "        \"num_train_epochs\": trial.suggest_int(\"num_train_epochs\", 5, 10),\n",
    "        \"alpha\": trial.suggest_float(\"alpha\", 0, 1),\n",
    "        \"temperature\": trial.suggest_int(\"temperature\", 2, 20)\n",
    "    }\n",
    "\n",
    "best_run = trainer.hyperparameter_search(n_trials=20, direction=\"maximize\", hp_space=hp_space)\n",
    "print(\"BEST RUN\", best_run)"
   ]
  },
  {
   "cell_type": "markdown",
   "id": "e4ef8c0a",
   "metadata": {},
   "source": [
    "## Model Quantization"
   ]
  },
  {
   "cell_type": "code",
   "execution_count": null,
   "id": "e5788983",
   "metadata": {},
   "outputs": [],
   "source": [
    "model = trainer.model.to(\"cpu\")\n",
    "print(\"Quantize model ...\")\n",
    "model_quantized = quantize_dynamic(model, {nn.Linear}, dtype=torch.qint8)\n",
    "print(\"Quantization done.\")\n",
    "print(\"Run benchmarks ...\")\n",
    "pipe_quantized = pipeline(\"text-classification\", model=model_quantized, tokenizer=student_tokenizer, device=\"cpu\")\n",
    "bench_quantized = PerformanceBenchmark(pipeline=pipe_quantized, dataset=clinc[\"test\"], class_labels=intents, query=bench_query, optim_type=\"DistilBERT\")\n",
    "bench_quantized.run_benchmark()"
   ]
  },
  {
   "cell_type": "markdown",
   "id": "b159b138",
   "metadata": {},
   "source": [
    "## Export to ONNX"
   ]
  },
  {
   "cell_type": "code",
   "execution_count": null,
   "id": "b695a951",
   "metadata": {},
   "outputs": [],
   "source": [
    "os.environ[\"OMP_NUM_THREADS\"] = f\"{cpu_count()}\"\n",
    "os.environ[\"OMP_WAIT_POLICY\"] = \"ACTIVE\"\n",
    "\n",
    "model_onnx_path = Path(\"../../checkpoints/export-onnx/distilbert.onnx\")\n",
    "pipe_export = pipeline(\"text-classification\", model=trainer.model.cpu(), tokenizer=student_tokenizer, device=\"cpu\")\n",
    "\n",
    "convert_pytorch(\n",
    "    nlp=pipe_export,\n",
    "    output=model_onnx_path,\n",
    "    opset=20,\n",
    "    use_external_format=False,\n",
    ")"
   ]
  },
  {
   "cell_type": "code",
   "execution_count": null,
   "id": "37a77aae",
   "metadata": {},
   "outputs": [],
   "source": [
    "def create_model_for_provider(model_path, provider=\"CPUExecutionProvider\"):\n",
    "    options = SessionOptions()\n",
    "    options.intra_op_num_threads = 1\n",
    "    options.graph_optimization_level = GraphOptimizationLevel.ORT_ENABLE_ALL\n",
    "    session = InferenceSession(str(model_path), options, providers=[provider])\n",
    "    session.disable_fallback()\n",
    "    return session\n",
    "\n",
    "onnx_model = create_model_for_provider(model_onnx_path)"
   ]
  },
  {
   "cell_type": "markdown",
   "id": "a6308ece",
   "metadata": {},
   "source": [
    "## ONNX Inference Pipeline"
   ]
  },
  {
   "cell_type": "code",
   "execution_count": null,
   "id": "98591d17",
   "metadata": {},
   "outputs": [],
   "source": [
    "class OnnxPipeline:\n",
    "    def __init__(self, model, tokenizer):\n",
    "        self.model = model\n",
    "        self.tokenizer = tokenizer\n",
    "    \n",
    "    def __call__(self, query):\n",
    "        model_inputs = self.tokenizer(query, return_tensors=\"pt\")\n",
    "        inputs_onnx = {k: v.cpu().detach().numpy() for k, v in model_inputs.items()}\n",
    "        logits = self.model.run(None, inputs_onnx)[0][0, :]\n",
    "        probs = softmax(logits)\n",
    "        pred_idx = np.argmax(probs).item()\n",
    "        return [{\"label\": intents.int2str(pred_idx), \"score\": probs[pred_idx]}]\n",
    "    \n",
    "pipe_onnx = OnnxPipeline(onnx_model, student_tokenizer)\n",
    "pipe(bench_query)"
   ]
  },
  {
   "cell_type": "markdown",
   "id": "c4c10db1",
   "metadata": {},
   "source": [
    "## ONNX Performance Benchmark"
   ]
  },
  {
   "cell_type": "code",
   "execution_count": null,
   "id": "c7c5abb6",
   "metadata": {},
   "outputs": [],
   "source": [
    "class OnnxPerformanceBenchmark(PerformanceBenchmark):\n",
    "    def __init__(self, *args, model_path, **kwargs):\n",
    "        super().__init__(*args, **kwargs)\n",
    "        self.model_path = model_path\n",
    "\n",
    "    def compute_size(self):\n",
    "        size_mb = np.round(Path(self.model_path).stat().st_size / (1024**2), 3)\n",
    "        return {\"size_mb\": size_mb}\n",
    "    \n",
    "\n",
    "bench_onnx = OnnxPerformanceBenchmark(pipe_onnx, clinc[\"test\"], model_path=model_onnx_path, class_labels=intents, query=bench_query, optim_type=\"ORT\")\n",
    "bench_onnx.run_benchmark()"
   ]
  },
  {
   "cell_type": "markdown",
   "id": "ee7a0762",
   "metadata": {},
   "source": [
    "## Dynamic Quantzation of ONNX Model"
   ]
  },
  {
   "cell_type": "code",
   "execution_count": null,
   "id": "3de82f68",
   "metadata": {},
   "outputs": [],
   "source": [
    "model_onnx_path_quantized = model_onnx_path.with_name(\"quantized.onnx\")\n",
    "\n",
    "onnx_quantize_dynamic(\n",
    "    model_input=model_onnx_path,             # original ONNX\n",
    "    model_output=model_onnx_path_quantized,  # quantized output\n",
    "    weight_type=QuantType.QInt8\n",
    ")"
   ]
  },
  {
   "cell_type": "code",
   "execution_count": null,
   "id": "70d1c887",
   "metadata": {},
   "outputs": [],
   "source": [
    "onnx_model_quantized = create_model_for_provider(model_onnx_path_quantized)\n",
    "pipe_onnx_quantized = OnnxPipeline(onnx_model_quantized, student_tokenizer)\n",
    "bench_onnx_quantized = OnnxPerformanceBenchmark(pipe_onnx_quantized, clinc[\"test\"], model_path=model_onnx_path_quantized, class_labels=intents, query=bench_query, optim_type=\"ORT-quantized\")\n",
    "bench_onnx_quantized.run_benchmark()"
   ]
  },
  {
   "cell_type": "markdown",
   "id": "d5f915a3",
   "metadata": {},
   "source": [
    "## Static Quantization of ONNX Model"
   ]
  },
  {
   "cell_type": "code",
   "execution_count": null,
   "id": "6f6c2b6f",
   "metadata": {},
   "outputs": [],
   "source": [
    "# Load model and perform shape inference\n",
    "model = quant_utils.load_model_with_shape_infer(model_onnx_path)\n",
    "model_onnx_path_q4 = model_onnx_path.with_name(\"quantized_q4.onnx\")\n",
    "\n",
    "# Define quantization config\n",
    "config = matmul_nbits_quantizer.DefaultWeightOnlyQuantConfig(\n",
    "    block_size=128,                # must be 16, 32, 64, 128...\n",
    "    is_symmetric=False,             # True = QInt4; False = QUInt4\n",
    "    quant_format=quant_utils.QuantFormat.QOperator,\n",
    "    op_types_to_quantize=[\"MatMul\"]  # optionally also \"Gather\"\n",
    ")\n",
    "\n",
    "# Create quantizer and quantize model\n",
    "quantizer = matmul_nbits_quantizer.MatMulNBitsQuantizer(\n",
    "    model=model,\n",
    "    algo_config=config\n",
    ")\n",
    "\n",
    "quantizer.process()\n",
    "\n",
    "# Save the quantized model\n",
    "quantizer.model.save_model_to_file(model_onnx_path_q4, use_external_data_format=False)"
   ]
  },
  {
   "cell_type": "code",
   "execution_count": null,
   "id": "dc928a3b",
   "metadata": {},
   "outputs": [],
   "source": [
    "onnx_model_q4 = create_model_for_provider(model_onnx_path_q4)\n",
    "pipe_onnx_q4 = OnnxPipeline(onnx_model_q4, student_tokenizer)\n",
    "bench_onnx_q4 = OnnxPerformanceBenchmark(pipe_onnx_q4, clinc[\"test\"], model_path=model_onnx_path_q4, class_labels=intents, query=bench_query, optim_type=\"ORT-quantized\")\n",
    "bench_onnx_q4.run_benchmark()"
   ]
  },
  {
   "cell_type": "code",
   "execution_count": null,
   "id": "59c14cd3",
   "metadata": {},
   "outputs": [],
   "source": []
  }
 ],
 "metadata": {
  "kernelspec": {
   "display_name": ".venv",
   "language": "python",
   "name": "python3"
  },
  "language_info": {
   "codemirror_mode": {
    "name": "ipython",
    "version": 3
   },
   "file_extension": ".py",
   "mimetype": "text/x-python",
   "name": "python",
   "nbconvert_exporter": "python",
   "pygments_lexer": "ipython3",
   "version": "3.12.4"
  }
 },
 "nbformat": 4,
 "nbformat_minor": 5
}
