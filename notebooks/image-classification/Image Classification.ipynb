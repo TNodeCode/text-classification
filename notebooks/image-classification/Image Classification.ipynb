{
 "cells": [
  {
   "cell_type": "markdown",
   "id": "d4c0be39",
   "metadata": {},
   "source": [
    "# Image Classification"
   ]
  },
  {
   "cell_type": "code",
   "execution_count": null,
   "id": "51576644",
   "metadata": {},
   "outputs": [],
   "source": [
    "from transformers import AutoImageProcessor, TrainingArguments\n",
    "from training import TrainingCommand\n",
    "\n",
    "%load_ext autoreload\n",
    "%autoreload 2"
   ]
  },
  {
   "cell_type": "code",
   "execution_count": null,
   "id": "55ff3ddd",
   "metadata": {},
   "outputs": [],
   "source": [
    "checkpoint = \"microsoft/resnet-50\"\n",
    "image_processor = AutoImageProcessor.from_pretrained(checkpoint)\n",
    "base_dir = \"../../datasets/image-classification\""
   ]
  },
  {
   "cell_type": "code",
   "execution_count": null,
   "id": "bb69535f",
   "metadata": {},
   "outputs": [],
   "source": [
    "training_args = TrainingArguments(\n",
    "    output_dir=\"../../checkpoints/image-classification\",\n",
    "    per_device_train_batch_size=2,\n",
    "    per_device_eval_batch_size=2,\n",
    "    num_train_epochs=12,\n",
    "    learning_rate=1e-4,\n",
    "    weight_decay=1e-4,\n",
    "    lr_scheduler_type=\"cosine\",\n",
    "    warmup_steps=2000,\n",
    "    eval_strategy=\"epoch\",\n",
    "    save_strategy=\"epoch\",\n",
    "    logging_steps=50,\n",
    "    remove_unused_columns=False,     # **must** stay False for detection tasks\n",
    "    fp16=False,                     # → bf16 if you’re on A100 / H100\n",
    ")\n",
    "\n",
    "cmd = TrainingCommand(\n",
    "    model_checkpoint=checkpoint,\n",
    "    train_dir=f\"{base_dir}\",\n",
    "    val_dir=f\"{base_dir}\",\n",
    "    classes=[\"class1\", \"class2\"],\n",
    "    training_args=training_args\n",
    ")"
   ]
  },
  {
   "cell_type": "code",
   "execution_count": null,
   "id": "189d03d7",
   "metadata": {},
   "outputs": [],
   "source": [
    "cmd.invoke()"
   ]
  },
  {
   "cell_type": "code",
   "execution_count": null,
   "id": "4f229fb2",
   "metadata": {},
   "outputs": [],
   "source": []
  }
 ],
 "metadata": {
  "kernelspec": {
   "display_name": ".venv",
   "language": "python",
   "name": "python3"
  },
  "language_info": {
   "codemirror_mode": {
    "name": "ipython",
    "version": 3
   },
   "file_extension": ".py",
   "mimetype": "text/x-python",
   "name": "python",
   "nbconvert_exporter": "python",
   "pygments_lexer": "ipython3",
   "version": "3.13.2"
  }
 },
 "nbformat": 4,
 "nbformat_minor": 5
}
