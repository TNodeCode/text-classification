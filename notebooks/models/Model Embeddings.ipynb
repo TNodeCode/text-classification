{
 "cells": [
  {
   "cell_type": "code",
   "execution_count": null,
   "id": "26143629",
   "metadata": {},
   "outputs": [],
   "source": [
    "import torch\n",
    "\n",
    "from datasets import load_dataset\n",
    "from transformers import AutoTokenizer, AutoModel\n",
    "\n",
    "\n",
    "model_ckpt = \"distilbert-base-uncased\"\n",
    "device = torch.device(\"cuda\") if torch.cuda.is_available() else \"cpu\""
   ]
  },
  {
   "cell_type": "code",
   "execution_count": null,
   "id": "ac20921c",
   "metadata": {},
   "outputs": [],
   "source": [
    "\n",
    "# Download the PyTorch model\n",
    "tokenizer = AutoTokenizer.from_pretrained(model_ckpt)\n",
    "model = AutoModel.from_pretrained(model_ckpt)\n",
    "model"
   ]
  },
  {
   "cell_type": "markdown",
   "id": "6b5635d7",
   "metadata": {},
   "source": [
    "# Transforming text to tensors"
   ]
  },
  {
   "cell_type": "code",
   "execution_count": null,
   "id": "2181adc0",
   "metadata": {},
   "outputs": [],
   "source": [
    "text = [\"Hell world from the NLP course!\", \"Hi there, it's me\"]\n",
    "inputs = tokenizer(text, return_tensors=\"pt\", padding=True, truncation=True)\n",
    "inputs = inputs[\"input_ids\"].to(device)\n",
    "inputs"
   ]
  },
  {
   "cell_type": "markdown",
   "id": "428ff217",
   "metadata": {},
   "source": [
    "## Running tensors through model"
   ]
  },
  {
   "cell_type": "code",
   "execution_count": null,
   "id": "c5de9f35",
   "metadata": {},
   "outputs": [],
   "source": [
    "with torch.no_grad():\n",
    "    outputs = model(inputs)\n",
    "\n",
    "outputs"
   ]
  },
  {
   "cell_type": "code",
   "execution_count": null,
   "id": "20c14daa",
   "metadata": {},
   "outputs": [],
   "source": [
    "# Get the shape of the generated output tensors (2 sentences, 10 tokens and 768-dimensional vector for each sentence)\n",
    "outputs.last_hidden_state.shape"
   ]
  }
 ],
 "metadata": {
  "kernelspec": {
   "display_name": ".venv",
   "language": "python",
   "name": "python3"
  },
  "language_info": {
   "codemirror_mode": {
    "name": "ipython",
    "version": 3
   },
   "file_extension": ".py",
   "mimetype": "text/x-python",
   "name": "python",
   "nbconvert_exporter": "python",
   "pygments_lexer": "ipython3",
   "version": "3.13.2"
  }
 },
 "nbformat": 4,
 "nbformat_minor": 5
}
