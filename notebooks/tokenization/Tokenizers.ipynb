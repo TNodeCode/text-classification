{
 "cells": [
  {
   "cell_type": "markdown",
   "id": "a17e38c4",
   "metadata": {},
   "source": [
    "# Tokenizers"
   ]
  },
  {
   "cell_type": "code",
   "execution_count": null,
   "id": "ca80362d",
   "metadata": {},
   "outputs": [],
   "source": [
    "from transformers import AutoTokenizer"
   ]
  },
  {
   "cell_type": "code",
   "execution_count": null,
   "id": "9eb6c2a6",
   "metadata": {},
   "outputs": [],
   "source": [
    "# Auto tokenizer decides based on the checkpoint which tokenizer to use\n",
    "model_ckpt = \"distilbert-base-uncased\"\n",
    "tokenizer = AutoTokenizer.from_pretrained(model_ckpt)"
   ]
  },
  {
   "cell_type": "markdown",
   "id": "ac3c8619",
   "metadata": {},
   "source": [
    "## Tokenizing text"
   ]
  },
  {
   "cell_type": "code",
   "execution_count": null,
   "id": "0289a338",
   "metadata": {},
   "outputs": [],
   "source": [
    "encoded_text = tokenizer(\"Hello world from the NLP course!\")\n",
    "encoded_text"
   ]
  },
  {
   "cell_type": "code",
   "execution_count": null,
   "id": "990ee8f1",
   "metadata": {},
   "outputs": [],
   "source": [
    "# return PyTorch tensor\n",
    "tokenizer(\"Hello world from the NLP course!\", return_tensors=\"pt\")"
   ]
  },
  {
   "cell_type": "markdown",
   "id": "06dbe935",
   "metadata": {},
   "source": [
    "## Tokens to Text"
   ]
  },
  {
   "cell_type": "code",
   "execution_count": null,
   "id": "18675913",
   "metadata": {},
   "outputs": [],
   "source": [
    "tokens = tokenizer.convert_ids_to_tokens(encoded_text.input_ids)\n",
    "tokens"
   ]
  },
  {
   "cell_type": "code",
   "execution_count": null,
   "id": "629ac5ba",
   "metadata": {},
   "outputs": [],
   "source": [
    "tokenizer.convert_tokens_to_string(tokens)"
   ]
  },
  {
   "cell_type": "markdown",
   "id": "016a41d5",
   "metadata": {},
   "source": [
    "## Inspect Model"
   ]
  },
  {
   "cell_type": "code",
   "execution_count": null,
   "id": "4717d9c2",
   "metadata": {},
   "outputs": [],
   "source": [
    "print(\"Vocabulary Size\", tokenizer.vocab_size)\n",
    "print(\"Model Context Length\", tokenizer.model_max_length)\n",
    "print(\"Model Input Names\", tokenizer.model_input_names)"
   ]
  },
  {
   "cell_type": "code",
   "execution_count": null,
   "id": "9e2faee4",
   "metadata": {},
   "outputs": [],
   "source": []
  }
 ],
 "metadata": {
  "kernelspec": {
   "display_name": ".venv",
   "language": "python",
   "name": "python3"
  },
  "language_info": {
   "codemirror_mode": {
    "name": "ipython",
    "version": 3
   },
   "file_extension": ".py",
   "mimetype": "text/x-python",
   "name": "python",
   "nbconvert_exporter": "python",
   "pygments_lexer": "ipython3",
   "version": "3.13.2"
  }
 },
 "nbformat": 4,
 "nbformat_minor": 5
}
