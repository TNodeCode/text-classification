{
 "cells": [
  {
   "cell_type": "markdown",
   "id": "f9e8b2f1",
   "metadata": {},
   "source": [
    "# Dataset Tokenization"
   ]
  },
  {
   "cell_type": "code",
   "execution_count": null,
   "id": "cb20392e",
   "metadata": {},
   "outputs": [],
   "source": [
    "from datasets import load_dataset\n",
    "from transformers import AutoTokenizer\n",
    "\n",
    "dataset = load_dataset(\"emotion\")\n",
    "tokenizer = AutoTokenizer.from_pretrained(\"distilbert-base-uncased\")"
   ]
  },
  {
   "cell_type": "code",
   "execution_count": null,
   "id": "181bc52d",
   "metadata": {},
   "outputs": [],
   "source": [
    "# First we define a method for tokenizing a batch from a dataset\n",
    "def tokenize(batch):\n",
    "    return tokenizer(batch[\"text\"], padding=True, truncation=True)\n",
    "\n",
    "tokenize(dataset[\"train\"][:5])"
   ]
  },
  {
   "cell_type": "code",
   "execution_count": null,
   "id": "c3744a2d",
   "metadata": {},
   "outputs": [],
   "source": [
    "dataset_encoded = dataset.map(tokenize, batched=True, batch_size=None)\n",
    "dataset_encoded"
   ]
  },
  {
   "cell_type": "code",
   "execution_count": null,
   "id": "0dd5d486",
   "metadata": {},
   "outputs": [],
   "source": [
    "dataset_encoded[\"train\"][0]"
   ]
  },
  {
   "cell_type": "code",
   "execution_count": null,
   "id": "d757c14a",
   "metadata": {},
   "outputs": [],
   "source": []
  }
 ],
 "metadata": {
  "kernelspec": {
   "display_name": ".venv",
   "language": "python",
   "name": "python3"
  },
  "language_info": {
   "codemirror_mode": {
    "name": "ipython",
    "version": 3
   },
   "file_extension": ".py",
   "mimetype": "text/x-python",
   "name": "python",
   "nbconvert_exporter": "python",
   "pygments_lexer": "ipython3",
   "version": "3.13.2"
  }
 },
 "nbformat": 4,
 "nbformat_minor": 5
}
