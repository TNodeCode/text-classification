{
 "cells": [
  {
   "cell_type": "markdown",
   "id": "54e7604b",
   "metadata": {},
   "source": [
    "# Named Entity Recognition Tokenizers"
   ]
  },
  {
   "cell_type": "code",
   "execution_count": null,
   "id": "1a379000",
   "metadata": {},
   "outputs": [],
   "source": [
    "from transformers import AutoTokenizer"
   ]
  },
  {
   "cell_type": "code",
   "execution_count": null,
   "id": "8edfd2a8",
   "metadata": {},
   "outputs": [],
   "source": [
    "bert_model_name = \"bert-base-cased\"\n",
    "xmlr_model_name = \"xlm-roberta-base\"\n",
    "\n",
    "bert_tokenizer = AutoTokenizer.from_pretrained(bert_model_name)\n",
    "xmlr_tokenizer = AutoTokenizer.from_pretrained(xmlr_model_name)"
   ]
  },
  {
   "cell_type": "code",
   "execution_count": null,
   "id": "5c21e41f",
   "metadata": {},
   "outputs": [],
   "source": [
    "text = \"Hello world from the NLP course!\"\n",
    "\n",
    "bert_tokens = bert_tokenizer(text).tokens()\n",
    "xmlr_tokens = xmlr_tokenizer(text).tokens()"
   ]
  },
  {
   "cell_type": "code",
   "execution_count": null,
   "id": "bed97944",
   "metadata": {},
   "outputs": [],
   "source": [
    "bert_tokens"
   ]
  },
  {
   "cell_type": "code",
   "execution_count": null,
   "id": "086402f0",
   "metadata": {},
   "outputs": [],
   "source": [
    "xmlr_tokens"
   ]
  },
  {
   "cell_type": "code",
   "execution_count": null,
   "id": "e7794801",
   "metadata": {},
   "outputs": [],
   "source": []
  }
 ],
 "metadata": {
  "kernelspec": {
   "display_name": ".venv",
   "language": "python",
   "name": "python3"
  },
  "language_info": {
   "codemirror_mode": {
    "name": "ipython",
    "version": 3
   },
   "file_extension": ".py",
   "mimetype": "text/x-python",
   "name": "python",
   "nbconvert_exporter": "python",
   "pygments_lexer": "ipython3",
   "version": "3.13.2"
  }
 },
 "nbformat": 4,
 "nbformat_minor": 5
}
