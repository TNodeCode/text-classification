{
 "cells": [
  {
   "cell_type": "markdown",
   "id": "734a9772",
   "metadata": {},
   "source": [
    "# Object Detection"
   ]
  },
  {
   "cell_type": "code",
   "execution_count": null,
   "id": "45f1f110",
   "metadata": {},
   "outputs": [],
   "source": [
    "import os\n",
    "from dataset import HFCocoDetection\n",
    "from datasets import load_dataset\n",
    "\n",
    "from training import TrainingCommand, TrainingArguments\n",
    "from transformers import DeformableDetrForObjectDetection, DeformableDetrImageProcessor\n",
    "\n",
    "%load_ext autoreload\n",
    "%autoreload 2"
   ]
  },
  {
   "cell_type": "code",
   "execution_count": null,
   "id": "6dfd8a50",
   "metadata": {},
   "outputs": [],
   "source": [
    "base_dir = os.path.expanduser(\"~/DeepLearningProjects/mmdetection/data/coco\")\n",
    "model_checkpoint = \"SenseTime/deformable-detr\"\n",
    "\n",
    "processor = DeformableDetrImageProcessor.from_pretrained(model_checkpoint, format=\"coco_detection\")\n",
    "dataset = HFCocoDetection(img_dir=f\"{base_dir}/train2017\", ann_file=f\"{base_dir}/annotations/instances_train2017_mixed.json\", processor=processor)"
   ]
  },
  {
   "cell_type": "code",
   "execution_count": null,
   "id": "e212baad",
   "metadata": {},
   "outputs": [],
   "source": [
    "dataset[0]"
   ]
  },
  {
   "cell_type": "code",
   "execution_count": null,
   "id": "bf6fd540",
   "metadata": {},
   "outputs": [],
   "source": [
    "config = DeformableDetrForObjectDetection.from_pretrained(\n",
    "    pretrained_model_name_or_path=model_checkpoint, \n",
    "    num_labels=1,\n",
    "    ignore_mismatched_sizes=True   # safely re-initialises the class head\n",
    ")\n",
    "\n",
    "training_args = TrainingArguments(\n",
    "    output_dir=\"../../checkpoints/object-detection\",\n",
    "    per_device_train_batch_size=4,\n",
    "    per_gpu_eval_batch_size=4,\n",
    "    num_train_epochs=12,\n",
    "    learning_rate=1e-4,\n",
    "    weight_decay=1e-4,\n",
    "    lr_scheduler_type=\"cosine\",\n",
    "    warmup_steps=2000,\n",
    "    eval_strategy=\"epoch\",\n",
    "    save_strategy=\"epoch\",\n",
    "    logging_steps=50,\n",
    "    remove_unused_columns=False,     # **must** stay False for detection tasks\n",
    "    fp16=False,                     # → bf16 if you’re on A100 / H100\n",
    ")\n",
    "\n",
    "cmd = TrainingCommand(\n",
    "    model_checkpoint=\"SenseTime/deformable-detr\",\n",
    "    config=config,\n",
    "    train_img_dir=f\"{base_dir}/train2017\",\n",
    "    train_ann_file=f\"{base_dir}/annotations/instances_train2017_mixed.json\",\n",
    "    val_img_dir=f\"{base_dir}/val2017\",\n",
    "    val_ann_file=f\"{base_dir}/annotations/instances_val2017_mixed.json\",\n",
    "    training_args=training_args\n",
    ")"
   ]
  },
  {
   "cell_type": "code",
   "execution_count": null,
   "id": "80907980",
   "metadata": {},
   "outputs": [],
   "source": [
    "cmd.invoke()"
   ]
  },
  {
   "cell_type": "code",
   "execution_count": null,
   "id": "f497d8e3",
   "metadata": {},
   "outputs": [],
   "source": []
  }
 ],
 "metadata": {
  "kernelspec": {
   "display_name": ".venv",
   "language": "python",
   "name": "python3"
  },
  "language_info": {
   "codemirror_mode": {
    "name": "ipython",
    "version": 3
   },
   "file_extension": ".py",
   "mimetype": "text/x-python",
   "name": "python",
   "nbconvert_exporter": "python",
   "pygments_lexer": "ipython3",
   "version": "3.13.2"
  }
 },
 "nbformat": 4,
 "nbformat_minor": 5
}
