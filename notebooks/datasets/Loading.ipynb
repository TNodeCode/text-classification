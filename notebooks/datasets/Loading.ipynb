{
 "cells": [
  {
   "cell_type": "markdown",
   "id": "8bacb062",
   "metadata": {},
   "source": [
    "# Load custom datasets"
   ]
  },
  {
   "cell_type": "code",
   "execution_count": null,
   "id": "15f21d81",
   "metadata": {},
   "outputs": [],
   "source": [
    "from datasets import load_dataset\n",
    "\n",
    "# Load the dataset\n",
    "data_csv_files = {\n",
    "    \"train\": \"../../datasets/sentiment-analysis/train.csv\",\n",
    "    \"validation\": \"../../datasets/sentiment-analysis/validation.csv\",\n",
    "    \"test\": \"../../datasets/sentiment-analysis/test.csv\"\n",
    "}\n",
    "dataset_csv = load_dataset(\"csv\", data_files=data_csv_files)\n",
    "\n",
    "# Inspect the dataset\n",
    "dataset_csv"
   ]
  },
  {
   "cell_type": "code",
   "execution_count": null,
   "id": "e6e0b393",
   "metadata": {},
   "outputs": [],
   "source": [
    "# Load the dataset\n",
    "data_txt_files = {\n",
    "    \"train\": \"../../datasets/sentiment-analysis/train.txt\",\n",
    "    \"validation\": \"../../datasets/sentiment-analysis/validation.txt\",\n",
    "    \"test\": \"../../datasets/sentiment-analysis/test.txt\"\n",
    "}\n",
    "dataset_txt = load_dataset(\"text\", data_files=data_txt_files)\n",
    "\n",
    "# Inspect the dataset\n",
    "dataset_txt"
   ]
  },
  {
   "cell_type": "code",
   "execution_count": null,
   "id": "3ea1b7ad",
   "metadata": {},
   "outputs": [],
   "source": [
    "# Load the dataset\n",
    "data_jsonl_files = {\n",
    "    \"train\": \"../../datasets/sentiment-analysis/train.jsonl\",\n",
    "    \"validation\": \"../../datasets/sentiment-analysis/validation.jsonl\",\n",
    "    \"test\": \"../../datasets/sentiment-analysis/test.jsonl\"\n",
    "}\n",
    "dataset_jsonl = load_dataset(\"text\", data_files=data_jsonl_files)\n",
    "\n",
    "# Inspect the dataset\n",
    "dataset_jsonl"
   ]
  },
  {
   "cell_type": "code",
   "execution_count": null,
   "id": "2ea16ccb",
   "metadata": {},
   "outputs": [],
   "source": []
  }
 ],
 "metadata": {
  "kernelspec": {
   "display_name": ".venv",
   "language": "python",
   "name": "python3"
  },
  "language_info": {
   "codemirror_mode": {
    "name": "ipython",
    "version": 3
   },
   "file_extension": ".py",
   "mimetype": "text/x-python",
   "name": "python",
   "nbconvert_exporter": "python",
   "pygments_lexer": "ipython3",
   "version": "3.13.2"
  }
 },
 "nbformat": 4,
 "nbformat_minor": 5
}
