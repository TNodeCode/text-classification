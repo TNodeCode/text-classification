{
 "cells": [
  {
   "cell_type": "markdown",
   "id": "c826abe0",
   "metadata": {},
   "source": [
    "# Huggingface Datasets"
   ]
  },
  {
   "cell_type": "code",
   "execution_count": null,
   "id": "77922861",
   "metadata": {},
   "outputs": [],
   "source": [
    "from datasets import load_dataset\n",
    "import matplotlib.pyplot as plt"
   ]
  },
  {
   "cell_type": "markdown",
   "id": "679d5b46",
   "metadata": {},
   "source": [
    "## Inspect available datasets"
   ]
  },
  {
   "cell_type": "code",
   "execution_count": null,
   "id": "d84988ed",
   "metadata": {},
   "outputs": [],
   "source": [
    "emotions = load_dataset(\"emotion\")\n",
    "emotions"
   ]
  },
  {
   "cell_type": "code",
   "execution_count": null,
   "id": "4023ff4c",
   "metadata": {},
   "outputs": [],
   "source": [
    "# Get the train dataset\n",
    "emotions[\"train\"]"
   ]
  },
  {
   "cell_type": "code",
   "execution_count": null,
   "id": "63872698",
   "metadata": {},
   "outputs": [],
   "source": [
    "emotions[\"train\"].features"
   ]
  },
  {
   "cell_type": "code",
   "execution_count": null,
   "id": "b4a9aa93",
   "metadata": {},
   "outputs": [],
   "source": [
    "# Get the texts of the train dataset\n",
    "emotions[\"train\"][\"text\"][:10]"
   ]
  },
  {
   "cell_type": "code",
   "execution_count": null,
   "id": "cfcd0990",
   "metadata": {},
   "outputs": [],
   "source": [
    "# Get the labels of teh train dataset\n",
    "emotions[\"train\"][\"label\"][:10]"
   ]
  },
  {
   "cell_type": "markdown",
   "id": "a39b0442",
   "metadata": {},
   "source": [
    "Datasets are based on the Apache Arrow format, which is a column-oriented storage format"
   ]
  },
  {
   "cell_type": "code",
   "execution_count": null,
   "id": "81a12d5b",
   "metadata": {},
   "outputs": [],
   "source": [
    "# Get the first item of the training dataset\n",
    "emotions[\"train\"][0]"
   ]
  },
  {
   "cell_type": "code",
   "execution_count": null,
   "id": "647dcc8a",
   "metadata": {},
   "outputs": [],
   "source": [
    "# Iterate over the training dataset\n",
    "for item in emotions[\"train\"]:\n",
    "    print(\"Text\", item[\"text\"], \"Label\", item[\"label\"])\n",
    "    break"
   ]
  },
  {
   "cell_type": "markdown",
   "id": "796df12c",
   "metadata": {},
   "source": [
    "## Transforming label indices into strings and vice versa"
   ]
  },
  {
   "cell_type": "code",
   "execution_count": null,
   "id": "4570aed6",
   "metadata": {},
   "outputs": [],
   "source": [
    "print(\"LABELS\", emotions[\"train\"].features[\"label\"])\n",
    "print(\"int2str\", emotions[\"train\"].features[\"label\"].int2str([0,0,1,1,2,2,3,3,4,4,5,5]))\n",
    "print(\"int2str\", emotions[\"train\"].features[\"label\"].str2int([\"surprise\", \"sadness\", \"fear\", \"joy\", \"anger\", \"love\"]))"
   ]
  },
  {
   "cell_type": "markdown",
   "id": "776a498a",
   "metadata": {},
   "source": [
    "## Transforming dataset into Pandas dataframe"
   ]
  },
  {
   "cell_type": "code",
   "execution_count": null,
   "id": "21afcba8",
   "metadata": {},
   "outputs": [],
   "source": [
    "emotions.set_format(type=\"pandas\")\n",
    "df_train = emotions[\"train\"][:]"
   ]
  },
  {
   "cell_type": "markdown",
   "id": "6250eb10",
   "metadata": {},
   "source": [
    "## Inspecting class frequency"
   ]
  },
  {
   "cell_type": "code",
   "execution_count": null,
   "id": "1f1cffee",
   "metadata": {},
   "outputs": [],
   "source": [
    "df_train[\"label_name\"] = df_train[\"label\"].apply(lambda x: emotions[\"train\"].features[\"label\"].int2str(x))\n",
    "df_train[\"label_name\"].value_counts(ascending=True)"
   ]
  },
  {
   "cell_type": "code",
   "execution_count": null,
   "id": "e5048d9f",
   "metadata": {},
   "outputs": [],
   "source": [
    "df_train[\"label\"].value_counts(ascending=True).plot.barh()\n",
    "plt.title(\"Frequency of classes\")"
   ]
  },
  {
   "cell_type": "code",
   "execution_count": null,
   "id": "6e749473",
   "metadata": {},
   "outputs": [],
   "source": [
    "df_train[\"word_count\"] = df_train[\"text\"].str.split().apply(len)\n",
    "df_train.boxplot(\"word_count\", by=\"label_name\", grid=False)\n",
    "plt.title(\"Word count per tweet\")\n",
    "plt.suptitle(\"\")\n",
    "plt.xlabel(\"class\")\n",
    "plt.ylabel(\"word count\")"
   ]
  },
  {
   "cell_type": "markdown",
   "id": "8de07e81",
   "metadata": {},
   "source": [
    "## Undo transformation into Pandas dataframe"
   ]
  },
  {
   "cell_type": "code",
   "execution_count": null,
   "id": "6c18888a",
   "metadata": {},
   "outputs": [],
   "source": [
    "emotions.reset_format()"
   ]
  },
  {
   "cell_type": "code",
   "execution_count": null,
   "id": "c1c65701",
   "metadata": {},
   "outputs": [],
   "source": []
  }
 ],
 "metadata": {
  "kernelspec": {
   "display_name": ".venv",
   "language": "python",
   "name": "python3"
  },
  "language_info": {
   "codemirror_mode": {
    "name": "ipython",
    "version": 3
   },
   "file_extension": ".py",
   "mimetype": "text/x-python",
   "name": "python",
   "nbconvert_exporter": "python",
   "pygments_lexer": "ipython3",
   "version": "3.13.2"
  }
 },
 "nbformat": 4,
 "nbformat_minor": 5
}
