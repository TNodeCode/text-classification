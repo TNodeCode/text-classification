{
 "cells": [
  {
   "cell_type": "markdown",
   "id": "5af9aac6",
   "metadata": {},
   "source": [
    "# Text Generation"
   ]
  },
  {
   "cell_type": "code",
   "execution_count": null,
   "id": "12adee37",
   "metadata": {},
   "outputs": [],
   "source": [
    "import pandas as pd\n",
    "import torch \n",
    "\n",
    "from transformers import AutoTokenizer, AutoModelForCausalLM"
   ]
  },
  {
   "cell_type": "code",
   "execution_count": null,
   "id": "1a8ad186",
   "metadata": {},
   "outputs": [],
   "source": [
    "device = \"cuda\" if torch.cuda.is_available() else \"cpu\"\n",
    "model_name = \"gpt2-xl\"\n",
    "tokenizer = AutoTokenizer.from_pretrained(model_name)\n",
    "model = AutoModelForCausalLM.from_pretrained(model_name).to(device)"
   ]
  },
  {
   "cell_type": "code",
   "execution_count": null,
   "id": "94e9c5f8",
   "metadata": {},
   "outputs": [],
   "source": [
    "def predict_greedy(model: torch.nn.Module, input_text: str, max_new_tokens: int, choices_per_step: int, device=\"cpu\") -> str:\n",
    "    iterations = []\n",
    "    # Turn text into tokens\n",
    "    input_ids = tokenizer(input_text, return_tensors=\"pt\").input_ids.to(device)\n",
    "    with torch.no_grad():\n",
    "        for i in range(max_new_tokens):\n",
    "            iteration = dict()\n",
    "            iteration[\"input\"] = tokenizer.decode(input_ids[0])\n",
    "            output = model(input_ids=input_ids)\n",
    "\n",
    "            next_token_logits = output.logits[0, -1, :]\n",
    "            next_token_probs = torch.softmax(next_token_logits, dim=-1)\n",
    "            sorted_ids = torch.argsort(next_token_probs, dim=-1, descending=True)\n",
    "\n",
    "            for choice_idx in range(choices_per_step):\n",
    "                token_id = sorted_ids[choice_idx]\n",
    "                token_prob = next_token_probs[token_id].cpu().numpy()\n",
    "                token_choice = f\"{tokenizer.decode(token_id)} ({100*token_prob:.2f}%)\"\n",
    "                iteration[f\"Choice {choice_idx+1}\"] = token_choice\n",
    "            \n",
    "            input_ids = torch.cat([input_ids, sorted_ids[None, 0, None]], dim=-1)\n",
    "            iterations.append(iteration)\n",
    "\n",
    "    return pd.DataFrame(iterations)\n"
   ]
  },
  {
   "cell_type": "code",
   "execution_count": null,
   "id": "91cf4e1d",
   "metadata": {},
   "outputs": [],
   "source": [
    "predict_greedy(model=model, input_text=\"The transformer is\", max_new_tokens=10, choices_per_step=5)"
   ]
  },
  {
   "cell_type": "code",
   "execution_count": null,
   "id": "dd28872a",
   "metadata": {},
   "outputs": [],
   "source": [
    "def generate(model: torch.nn.Module, input_text: str, max_new_tokens: int, do_sample=True, device: str = \"cpu\"):\n",
    "    # Turn text into tokens\n",
    "    input_ids = tokenizer(input_text, return_tensors=\"pt\").input_ids.to(device)\n",
    "    output = model.generate(input_ids, max_new_tokens=max_new_tokens, do_sample=do_sample)\n",
    "    return tokenizer.decode(output[0])"
   ]
  },
  {
   "cell_type": "code",
   "execution_count": null,
   "id": "2d671c8b",
   "metadata": {},
   "outputs": [],
   "source": [
    "print(\"# Without sampling:\")\n",
    "for i in range(3):\n",
    "    print(\"- \" + generate(model=model, input_text=\"The transformer is\", max_new_tokens=10, do_sample=False))\n",
    "\n",
    "print(\"# With sampling:\")\n",
    "for i in range(3):\n",
    "    print(\"- \" + generate(model=model, input_text=\"The transformer is\", max_new_tokens=10, do_sample=True))"
   ]
  },
  {
   "cell_type": "code",
   "execution_count": null,
   "id": "c791b736",
   "metadata": {},
   "outputs": [],
   "source": []
  }
 ],
 "metadata": {
  "kernelspec": {
   "display_name": ".venv",
   "language": "python",
   "name": "python3"
  },
  "language_info": {
   "codemirror_mode": {
    "name": "ipython",
    "version": 3
   },
   "file_extension": ".py",
   "mimetype": "text/x-python",
   "name": "python",
   "nbconvert_exporter": "python",
   "pygments_lexer": "ipython3",
   "version": "3.13.2"
  }
 },
 "nbformat": 4,
 "nbformat_minor": 5
}
